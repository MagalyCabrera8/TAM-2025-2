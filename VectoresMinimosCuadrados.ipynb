{
  "nbformat": 4,
  "nbformat_minor": 0,
  "metadata": {
    "colab": {
      "provenance": [],
      "authorship_tag": "ABX9TyP1QnVBDAgVIyTtHX+gSFaq",
      "include_colab_link": true
    },
    "kernelspec": {
      "name": "python3",
      "display_name": "Python 3"
    },
    "language_info": {
      "name": "python"
    }
  },
  "cells": [
    {
      "cell_type": "markdown",
      "metadata": {
        "id": "view-in-github",
        "colab_type": "text"
      },
      "source": [
        "<a href=\"https://colab.research.google.com/github/MagalyCabrera8/TAM-2025-2/blob/main/VectoresMinimosCuadrados.ipynb\" target=\"_parent\"><img src=\"https://colab.research.google.com/assets/colab-badge.svg\" alt=\"Open In Colab\"/></a>"
      ]
    },
    {
      "cell_type": "code",
      "execution_count": null,
      "metadata": {
        "id": "aQgkDUfTZpwD"
      },
      "outputs": [],
      "source": []
    },
    {
      "cell_type": "markdown",
      "metadata": {
        "id": "7696cb1d"
      },
      "source": [
        "# Task\n",
        "Construye un código de Python que muestre la proyección de un vector en 2 dimensiones sobre otro, incluyendo la solución analítica e iterativa (gradiente descendente). El código debe estar organizado en métodos principales, comparar los resultados de ambos métodos y visualizar los vectores y la proyección."
      ]
    },
    {
      "cell_type": "markdown",
      "metadata": {
        "id": "faac1025"
      },
      "source": [
        "## Definir el problema\n",
        "\n",
        "### Subtask:\n",
        "Establecer los vectores de entrada en 2 dimensiones sobre los cuales se realizará la proyección.\n"
      ]
    },
    {
      "cell_type": "markdown",
      "metadata": {
        "id": "7d8fcc15"
      },
      "source": [
        "**Reasoning**:\n",
        "The first step is to define the two 2-dimensional vectors using NumPy arrays as requested.\n",
        "\n"
      ]
    },
    {
      "cell_type": "code",
      "metadata": {
        "id": "59c740aa"
      },
      "source": [
        "import numpy as np\n",
        "\n",
        "vector_a = np.array([5, 4])\n",
        "vector_b = np.array([8, 10])"
      ],
      "execution_count": null,
      "outputs": []
    },
    {
      "cell_type": "markdown",
      "metadata": {
        "id": "b749b10e"
      },
      "source": [
        "## Solución analítica\n",
        "\n",
        "### Subtask:\n",
        "Implementar la fórmula de la proyección analítica de un vector sobre otro.\n"
      ]
    },
    {
      "cell_type": "markdown",
      "metadata": {
        "id": "502afd13"
      },
      "source": [
        "**Reasoning**:\n",
        "Implement the analytical projection formula by calculating the dot products, the scalar projection, and finally the vector projection.\n",
        "\n"
      ]
    },
    {
      "cell_type": "code",
      "metadata": {
        "id": "f4d3d066"
      },
      "source": [
        "dot_product_ab = np.dot(vector_a, vector_b)\n",
        "dot_product_bb = np.dot(vector_b, vector_b)\n",
        "scalar_projection = dot_product_ab / dot_product_bb\n",
        "projection_analytic = scalar_projection * vector_b"
      ],
      "execution_count": null,
      "outputs": []
    },
    {
      "cell_type": "markdown",
      "metadata": {
        "id": "a7c50b99"
      },
      "source": [
        "## Solución iterativa (gradiente descendente)\n",
        "\n",
        "### Subtask:\n",
        "Implementar el algoritmo de gradiente descendente para encontrar el escalar óptimo.\n"
      ]
    },
    {
      "cell_type": "markdown",
      "metadata": {
        "id": "89c6c4c8"
      },
      "source": [
        "**Reasoning**:\n",
        "Implement the gradient descent algorithm to find the optimal scalar for the projection. This involves defining the cost function, its gradient, initializing the scalar, setting hyperparameters, and iterating to update the scalar.\n",
        "\n"
      ]
    },
    {
      "cell_type": "code",
      "metadata": {
        "id": "2f8940d1"
      },
      "source": [
        "def cost_function(scalar, vector_a, vector_b):\n",
        "  \"\"\"Calculates the mean squared error between the projected vector and the target vector.\"\"\"\n",
        "  projection = scalar * vector_b\n",
        "  return np.mean((vector_a - projection)**2)\n",
        "\n",
        "def gradient(scalar, vector_a, vector_b):\n",
        "  \"\"\"Calculates the gradient of the cost function with respect to the scalar.\"\"\"\n",
        "  projection = scalar * vector_b\n",
        "  return -2 * np.mean((vector_a - projection) * vector_b)\n",
        "\n",
        "# Initialize scalar, learning rate, and iterations\n",
        "scalar_iterative = 0\n",
        "learning_rate = 0.01\n",
        "n_iterations = 1000\n",
        "\n",
        "# Gradient Descent loop\n",
        "for i in range(n_iterations):\n",
        "  grad = gradient(scalar_iterative, vector_a, vector_b)\n",
        "  scalar_iterative -= learning_rate * grad\n",
        "\n",
        "# Calculate the projection using the final scalar from gradient descent\n",
        "projection_iterative = scalar_iterative * vector_b"
      ],
      "execution_count": null,
      "outputs": []
    },
    {
      "cell_type": "markdown",
      "metadata": {
        "id": "35bffc10"
      },
      "source": [
        "## Comparar resultados\n",
        "\n",
        "### Subtask:\n",
        "Mostrar los resultados obtenidos por ambos métodos y verificar si son similares.\n"
      ]
    },
    {
      "cell_type": "markdown",
      "metadata": {
        "id": "e007f539"
      },
      "source": [
        "**Reasoning**:\n",
        "Print the results from both methods to compare them.\n",
        "\n"
      ]
    },
    {
      "cell_type": "code",
      "metadata": {
        "colab": {
          "base_uri": "https://localhost:8080/"
        },
        "id": "f9d269a3",
        "outputId": "a0c2ed25-0fad-4c18-af33-9fbfbadaadcf"
      },
      "source": [
        "print(f\"Scalar (Analytical): {scalar_projection}\")\n",
        "print(f\"Scalar (Iterative): {scalar_iterative}\")\n",
        "print(f\"Projection (Analytical): {projection_analytic}\")\n",
        "print(f\"Projection (Iterative): {projection_iterative}\")\n",
        "\n",
        "print(\"\\nComparing results:\")\n",
        "print(f\"Scalar difference: {abs(scalar_projection - scalar_iterative)}\")\n",
        "print(f\"Projection difference: {np.linalg.norm(projection_analytic - projection_iterative)}\")"
      ],
      "execution_count": null,
      "outputs": [
        {
          "output_type": "stream",
          "name": "stdout",
          "text": [
            "Scalar (Analytical): 0.4878048780487805\n",
            "Scalar (Iterative): 0.4878048780487804\n",
            "Projection (Analytical): [3.90243902 4.87804878]\n",
            "Projection (Iterative): [3.90243902 4.87804878]\n",
            "\n",
            "Comparing results:\n",
            "Scalar difference: 5.551115123125783e-17\n",
            "Projection difference: 9.930136612989092e-16\n"
          ]
        }
      ]
    },
    {
      "cell_type": "markdown",
      "metadata": {
        "id": "c4a025be"
      },
      "source": [
        "## Visualización\n",
        "\n",
        "### Subtask:\n",
        "Graficar los vectores originales, el vector sobre el que se proyecta y el vector proyectado para una mejor comprensión.\n"
      ]
    },
    {
      "cell_type": "markdown",
      "metadata": {
        "id": "e3ecc3ed"
      },
      "source": [
        "**Reasoning**:\n",
        "Plot the original vectors and the projected vector using matplotlib's quiver function to visualize the projection.\n",
        "\n"
      ]
    },
    {
      "cell_type": "markdown",
      "metadata": {
        "id": "51f7b52d"
      },
      "source": [
        "**Reasoning**:\n",
        "The error indicates an issue with the linestyle used for the quiver plot. The `linestyle='--'` is causing a ValueError. I will try using a valid dash pattern or a different linestyle.\n",
        "\n"
      ]
    },
    {
      "cell_type": "code",
      "metadata": {
        "colab": {
          "base_uri": "https://localhost:8080/",
          "height": 564
        },
        "id": "b6d6617e",
        "outputId": "3b3c6330-2a11-48ce-ea7f-27975cc4aef7"
      },
      "source": [
        "# Extract the scalar values from the projections history\n",
        "scalar_history = [np.dot(proj, vector_b) / np.dot(vector_b, vector_b) for proj in projections_history]\n",
        "\n",
        "plt.figure(figsize=(10, 6))\n",
        "plt.plot(range(n_iterations), scalar_history, label='Scalar Value per Iteration')\n",
        "plt.axhline(y=scalar_projection, color='g', linestyle='--', label='Analytical Scalar')\n",
        "plt.xlabel('Iteration Number')\n",
        "plt.ylabel('Scalar Value')\n",
        "plt.title('Scalar Value Convergence during Gradient Descent')\n",
        "plt.legend()\n",
        "plt.grid(True)\n",
        "plt.show()"
      ],
      "execution_count": null,
      "outputs": [
        {
          "output_type": "display_data",
          "data": {
            "text/plain": [
              "<Figure size 1000x600 with 1 Axes>"
            ],
            "image/png": "[encoded data removed]"
          },
          "metadata": {}
        }
      ]
    }
  ]
}