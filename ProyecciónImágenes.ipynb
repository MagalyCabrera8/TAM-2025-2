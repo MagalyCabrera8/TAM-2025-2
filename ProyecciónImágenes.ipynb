{
  "cells": [
    {
      "cell_type": "markdown",
      "metadata": {
        "id": "view-in-github",
        "colab_type": "text"
      },
      "source": [
        "<a href=\"https://colab.research.google.com/github/MagalyCabrera8/TAM-2025-2/blob/main/Proyecci%C3%B3nIm%C3%A1genes.ipynb\" target=\"_parent\"><img src=\"https://colab.research.google.com/assets/colab-badge.svg\" alt=\"Open In Colab\"/></a>"
      ]
    },
    {
      "cell_type": "markdown",
      "metadata": {
        "id": "XIvRJ18v_6FA"
      },
      "source": [
        "# **PRIMER PASO**\n",
        "\n",
        "En este paso, se cargan las imágenes y se las convierte a escala de grises, en la escala de grises, por cada pixel se calcula el promedio de los 3 colores, arroja un valor entre 0 y 255, el cero indica negro y el 255 indica blanco; luego se calcula cual es al ancho y el alto mínimo de cada una de las fotos, para poder pasar a redimensionar alguna foto de ser necesario. Las imagenes en escala de grises se convierten a matrices numéricas."
      ]
    },
    {
      "cell_type": "code",
      "execution_count": null,
      "metadata": {
        "colab": {
          "base_uri": "https://localhost:8080/"
        },
        "id": "dzFInAFh6XP4",
        "outputId": "ec9d878b-3675-4784-c846-a9407d034bf7"
      },
      "outputs": [
        {
          "name": "stdout",
          "output_type": "stream",
          "text": [
            "Redimensionando la Foto 1 de 750x448 a 696x448.\n",
            "Redimensionando la Foto 2 de 696x960 a 696x448.\n",
            "Dimensiones de la matriz de la Foto 1: (448, 696)\n",
            "Dimensiones de la matriz de la Foto 2: (448, 696)\n"
          ]
        }
      ],
      "source": [
        "\n",
        "from PIL import Image\n",
        "import numpy as np\n",
        "import matplotlib.pyplot as plt\n",
        "\n",
        "# Nombra tus archivos de imagen aquí\n",
        "imagen1_path = 'Justin1.jpeg'\n",
        "imagen2_path = 'jb2.jpg'\n",
        "\n",
        "# Cargar las imágenes\n",
        "imagen1 = Image.open(imagen1_path).convert('L')\n",
        "imagen2 = Image.open(imagen2_path).convert('L')\n",
        "\n",
        "\n",
        "# Obtener las dimensiones de las imágenes\n",
        "ancho1, alto1 = imagen1.size\n",
        "ancho2, alto2 = imagen2.size\n",
        "\n",
        "# Determinar las dimensiones de la imagen más pequeña\n",
        "nuevo_ancho = min(ancho1, ancho2)\n",
        "nuevo_alto = min(alto1, alto2)\n",
        "\n",
        "# Si las dimensiones no son iguales, redimensionar ambas imágenes a las nuevas dimensiones\n",
        "if (ancho1, alto1) != (nuevo_ancho, nuevo_alto):\n",
        "    print(f\"Redimensionando la Foto 1 de {ancho1}x{alto1} a {nuevo_ancho}x{nuevo_alto}.\")\n",
        "    imagen1 = imagen1.resize((nuevo_ancho, nuevo_alto))\n",
        "\n",
        "if (ancho2, alto2) != (nuevo_ancho, nuevo_alto):\n",
        "    print(f\"Redimensionando la Foto 2 de {ancho2}x{alto2} a {nuevo_ancho}x{nuevo_alto}.\")\n",
        "    imagen2 = imagen2.resize((nuevo_ancho, nuevo_alto))\n",
        "\n",
        "# Convertir las imágenes a matrices de NumPy\n",
        "matriz_a = np.asarray(imagen1, np.float32)\n",
        "matriz_b = np.asarray(imagen2,np.float32)\n",
        "\n",
        "# Mostrar las dimensiones de las matrices para confirmar\n",
        "print(f\"Dimensiones de la matriz de la Foto 1: {matriz_a.shape}\")\n",
        "print(f\"Dimensiones de la matriz de la Foto 2: {matriz_b.shape}\")\n"
      ]
    },
    {
      "cell_type": "markdown",
      "metadata": {
        "id": "LFbVZrd2Nody"
      },
      "source": [
        "**SEGUNDO PASO**\n",
        "Se hace el 'aplanamiento' de las matrices para convertirlas en vectores, después se calcula el producto punto entre los dos vectores y la norma del vector b (imagen b), se procede a calcular el alfa."
      ]
    },
    {
      "cell_type": "code",
      "execution_count": null,
      "metadata": {
        "colab": {
          "base_uri": "https://localhost:8080/"
        },
        "id": "xB_TDf17At_u",
        "outputId": "20bf3b75-e42e-4c46-acff-38348ac5a107"
      },
      "outputs": [
        {
          "name": "stdout",
          "output_type": "stream",
          "text": [
            "El vector aplanado de  'a' tiene una longitud de: 311808\n",
            "El vector aplanado de 'b' tiene una longitud de: 311808\n",
            "\n",
            "El escalar alfa (α) es: 0.7362439632415771\n",
            "El vector de proyección tiene una longitud de: 311808\n"
          ]
        }
      ],
      "source": [
        "\n",
        "# 1. Aplanar las matrices para convertirlas en vectores\n",
        "# El método .flatten() toma la matriz y la convierte en un vector 1D\n",
        "vector_a = matriz_a.flatten()\n",
        "vector_b = matriz_b.flatten()\n",
        "\n",
        "print(f\"El vector aplanado de  'a' tiene una longitud de: {len(vector_a)}\")\n",
        "print(f\"El vector aplanado de 'b' tiene una longitud de: {len(vector_b)}\")\n",
        "\n",
        "# 2. Calcular los componentes de la fórmula de proyección\n",
        "# El producto punto se calcula con np.dot()\n",
        "producto_punto = np.dot(vector_a, vector_b)\n",
        "\n",
        "# La norma al cuadrado se calcula con np.linalg.norm() y elevando al cuadrado\n",
        "norma_b_cuadrada = np.linalg.norm(vector_b)**2\n",
        "\n",
        "# 3. Calcular el escalar alfa (α)\n",
        "alfa_mat = producto_punto / norma_b_cuadrada\n",
        "\n",
        "# 4. Calcular el vector de proyección\n",
        "# Esto es simplemente multiplicar el vector b por el escalar alfa\n",
        "proyeccion_vector = alfa_mat * vector_b\n",
        "\n",
        "print(f\"\\nEl escalar alfa (α) es: {alfa_mat}\")\n",
        "print(f\"El vector de proyección tiene una longitud de: {len(proyeccion_vector)}\")\n",
        "\n",
        "# Guardar el vector de proyección para el siguiente paso\n",
        "np.save('proyeccion.npy', proyeccion_vector)"
      ]
    },
    {
      "cell_type": "markdown",
      "metadata": {
        "id": "QvUaXfoOV2XD"
      },
      "source": [
        "***SOLUCIÓN ITERATIVA - DESCENSO DEL GRADIENTE***\n",
        "\n",
        "\n",
        "---\n",
        "\n"
      ]
    },
    {
      "cell_type": "code",
      "execution_count": null,
      "metadata": {
        "colab": {
          "base_uri": "https://localhost:8080/",
          "height": 653
        },
        "id": "-CB1vgk-XZnJ",
        "outputId": "120224eb-2a02-4ba6-b1ff-f594e049cf8f"
      },
      "outputs": [
        {
          "name": "stdout",
          "output_type": "stream",
          "text": [
            "\n",
            "Descenso de Gradiente finalizado.\n",
            "Total de iteraciones: 250\n",
            "Valor óptimo de alfa encontrado: 0.7343706489\n",
            "Cambio final en el coste: 0.000000000000000\n"
          ]
        },
        {
          "data": {
            "image/png": "[encoded data removed]",
            "text/plain": [
              "<Figure size 1000x600 with 1 Axes>"
            ]
          },
          "metadata": {},
          "output_type": "display_data"
        }
      ],
      "source": [
        "# --- Parámetros del Descenso de Gradiente ---\n",
        "alfa = 0.0\n",
        "tasa_aprendizaje = 1e-12\n",
        "tolerancia = 1e-10\n",
        "\n",
        "# --- Variables para el ciclo while y registro de la trayectoria ---\n",
        "coste_previo = float('inf')\n",
        "coste_actual = np.linalg.norm(vector_a - alfa * vector_b)**2 # Calcular coste inicial\n",
        "iteracion = 0\n",
        "\n",
        "# Listas para guardar la trayectoria\n",
        "historial_alfa = [alfa]\n",
        "historial_coste = [coste_actual]\n",
        "\n",
        "\n",
        "# --- Bucle while ---\n",
        "while abs(coste_previo - coste_actual) > tolerancia:\n",
        "\n",
        "    coste_previo = coste_actual\n",
        "\n",
        "    # Calcular el gradiente\n",
        "    gradiente = 2 * alfa * norma_b_cuadrada - 2 * producto_punto\n",
        "\n",
        "    # Actualizar alfa\n",
        "    alfa = alfa - tasa_aprendizaje * gradiente\n",
        "\n",
        "    # Calcular el coste actual\n",
        "    coste_actual = np.linalg.norm(vector_a - alfa * vector_b)**2\n",
        "\n",
        "    iteracion += 1\n",
        "\n",
        "    # Guardar los valores para la gráfica\n",
        "    historial_alfa.append(alfa)\n",
        "    historial_coste.append(coste_actual)\n",
        "\n",
        "\n",
        "\n",
        "\n",
        "print(\"\\nDescenso de Gradiente finalizado.\")\n",
        "print(f\"Total de iteraciones: {iteracion}\")\n",
        "print(f\"Valor óptimo de alfa encontrado: {alfa:.10f}\")\n",
        "print(f\"Cambio final en el coste: {abs(coste_previo - coste_actual):.15f}\")\n",
        "\n",
        "# --- Visualizar la trayectoria del Descenso de Gradiente ---\n",
        "plt.figure(figsize=(10, 6))\n",
        "\n",
        "# Graficar la función de coste (opcional, para ver la forma de la curva)\n",
        "# Esto requiere calcular muchos puntos de la función de coste\n",
        "alfa_valores = np.linspace(min(historial_alfa) * 0.9, max(historial_alfa) * 1.1, 500)\n",
        "coste_valores = [np.linalg.norm(vector_a - a_val * vector_b)**2 for a_val in alfa_valores]\n",
        "plt.plot(alfa_valores, coste_valores, label='Función de Coste', color='blue')\n",
        "\n",
        "# Graficar la trayectoria del Descenso de Gradiente\n",
        "plt.plot(historial_alfa, historial_coste, marker='o', color='red', linestyle='--', label='Trayectoria Descenso de Gradiente')\n",
        "\n",
        "plt.title(\"Convergencia del Descenso de Gradiente\")\n",
        "plt.xlabel(\"Alfa (α)\")\n",
        "plt.ylabel(\"Función de Coste\")\n",
        "plt.grid(True)\n",
        "plt.legend()\n",
        "plt.show()\n",
        "\n",
        "# Guardar el vector de proyección para visualización posterior\n",
        "proyeccion_vector_iterativa = alfa * vector_b"
      ]
    },
    {
      "cell_type": "code",
      "execution_count": null,
      "metadata": {
        "colab": {
          "base_uri": "https://localhost:8080/"
        },
        "id": "ECYJKfVyZrqD",
        "outputId": "9a36d413-80d6-4a8d-ac53-ed52edeb81e9"
      },
      "outputs": [
        {
          "name": "stdout",
          "output_type": "stream",
          "text": [
            "El costo final con el alfa obtenido es: 1919646720.0\n"
          ]
        }
      ],
      "source": [
        "\n",
        "costo_final = np.linalg.norm(vector_a - alfa * vector_b)**2\n",
        "\n",
        "print(f\"El costo final con el alfa obtenido es: {costo_final}\")"
      ]
    },
    {
      "cell_type": "markdown",
      "metadata": {
        "id": "MhDWRsvoxbI9"
      },
      "source": [
        "# ***PROCEDIMIENTO CON IMÁGENES A COLOR***\n",
        "\n",
        "---\n",
        "\n"
      ]
    },
    {
      "cell_type": "code",
      "execution_count": null,
      "metadata": {
        "colab": {
          "base_uri": "https://localhost:8080/"
        },
        "id": "ZXbGbcyDxpYp",
        "outputId": "41c510c7-d8ac-4e94-c054-97db48e33dcf"
      },
      "outputs": [
        {
          "name": "stdout",
          "output_type": "stream",
          "text": [
            "Redimensionando la Foto 1 de 750x448 a 696x448.\n",
            "Redimensionando la Foto 2 de 696x960 a 696x448.\n",
            "Dimensiones de la matriz de la Foto 1: (448, 696, 3)\n",
            "Dimensiones de la matriz de la Foto 2: (448, 696, 3)\n"
          ]
        }
      ],
      "source": [
        "\n",
        "\n",
        "imagen1 = Image.open(imagen1_path).convert('RGB') # Convertir a RGB si es necesario\n",
        "imagen2 = Image.open(imagen2_path).convert('RGB')\n",
        "\n",
        "# Obtener las dimensiones de las imágenes\n",
        "ancho1, alto1 = imagen1.size\n",
        "ancho2, alto2 = imagen2.size\n",
        "\n",
        "# Determinar las dimensiones de la imagen más pequeña\n",
        "nuevo_ancho = min(ancho1, ancho2)\n",
        "nuevo_alto = min(alto1, alto2)\n",
        "\n",
        "# Si las dimensiones no son iguales, redimensionar ambas imágenes\n",
        "if (ancho1, alto1) != (nuevo_ancho, nuevo_alto):\n",
        "    print(f\"Redimensionando la Foto 1 de {ancho1}x{alto1} a {nuevo_ancho}x{nuevo_alto}.\")\n",
        "    imagen1 = imagen1.resize((nuevo_ancho, nuevo_alto))\n",
        "\n",
        "if (ancho2, alto2) != (nuevo_ancho, nuevo_alto):\n",
        "    print(f\"Redimensionando la Foto 2 de {ancho2}x{alto2} a {nuevo_ancho}x{nuevo_alto}.\")\n",
        "    imagen2 = imagen2.resize((nuevo_ancho, nuevo_alto))\n",
        "\n",
        "# Convertir las imágenes a matrices de NumPy.\n",
        "# La matriz tendrá 3 canales para RGB.\n",
        "matriz_a = np.array(imagen1)\n",
        "matriz_b = np.array(imagen2)\n",
        "\n",
        "# Mostrar las dimensiones de las matrices para confirmar\n",
        "print(f\"Dimensiones de la matriz de la Foto 1: {matriz_a.shape}\")\n",
        "print(f\"Dimensiones de la matriz de la Foto 2: {matriz_b.shape}\")\n",
        "\n"
      ]
    },
    {
      "cell_type": "code",
      "execution_count": null,
      "metadata": {
        "colab": {
          "base_uri": "https://localhost:8080/"
        },
        "id": "KjYe8mQl04mS",
        "outputId": "be209d59-18bc-40a8-8931-1aa7871081bc"
      },
      "outputs": [
        {
          "name": "stdout",
          "output_type": "stream",
          "text": [
            "La longitud del vector 'a' es: 935424\n",
            "La longitud del vector 'b' es: 935424\n",
            "\n",
            "El escalar alfa (α) es: 0.7270433902740479\n",
            "El vector de proyección tiene una longitud de: 311808\n"
          ]
        }
      ],
      "source": [
        "\n",
        "\n",
        "# 1. Aplanar las matrices para convertirlas en vectores\n",
        "# El método .flatten() apila los 3 canales en un solo vector largo\n",
        "v_aColor = matriz_a.flatten().astype(np.float32)\n",
        "v_bColor = matriz_b.flatten().astype(np.float32)\n",
        "\n",
        "print(f\"La longitud del vector 'a' es: {len(v_aColor)}\")\n",
        "print(f\"La longitud del vector 'b' es: {len(v_bColor)}\")\n",
        "\n",
        "# 2. Calcular los componentes de la fórmula de proyección\n",
        "pp_Color = np.dot(v_aColor, v_bColor) #Producto punto\n",
        "nBColor = np.linalg.norm(v_bColor)**2 #Norma de b\n",
        "\n",
        "alfa_color = pp_Color / nBColor\n",
        "\n",
        "\n",
        "# 4. Calcular el vector de proyección\n",
        "proyec_color = alfa_color * vector_b\n",
        "\n",
        "print(f\"\\nEl escalar alfa (α) es: {alfa_color}\")\n",
        "print(f\"El vector de proyección tiene una longitud de: {len(proyeccion_vector)}\")\n",
        "\n"
      ]
    },
    {
      "cell_type": "code",
      "execution_count": null,
      "metadata": {
        "colab": {
          "background_save": true,
          "base_uri": "https://localhost:8080/"
        },
        "id": "sIZr7fxK_V9B",
        "outputId": "30eab459-39c2-4854-b010-8058c93de37a"
      },
      "outputs": [
        {
          "name": "stdout",
          "output_type": "stream",
          "text": [
            "Iniciando el Descenso de Gradiente con historial...\n",
            "\n",
            "\n",
            "Descenso de Gradiente finalizado.\n",
            "Total de iteraciones: 34503\n",
            "Valor óptimo de alfa encontrado: 0.6667729020\n"
          ]
        }
      ],
      "source": [
        "\n",
        "\n",
        "# Asumiendo que v_aColor, v_bColor, pp_Color y nBColor están definidos\n",
        "# Si no lo están, asegúrate de que el código anterior se haya ejecutado\n",
        "\n",
        "# --- 3. Parámetros para el Descenso de Gradiente ---\n",
        "alfa_itC = 0.0\n",
        "tasa_aprendizajeC = 1e-15\n",
        "tolerancia = 1e-1\n",
        "\n",
        "# Variables para el bucle while\n",
        "coste_antC = 0\n",
        "coste_actC = np.linalg.norm(v_aColor - alfa_itC * v_bColor)**2\n",
        "iteracion = 0\n",
        "\n",
        "# Listas para guardar el historial\n",
        "historial_alfaC = [alfa_itC]\n",
        "historial_costeC = [coste_actC]\n",
        "\n",
        "print(\"Iniciando el Descenso de Gradiente con historial...\\n\")\n",
        "\n",
        "# --- 5. Bucle de Descenso de Gradiente ---\n",
        "while abs(coste_antC - coste_actC) > tolerancia:\n",
        "    coste_antC = coste_actC\n",
        "\n",
        "    # Calcular el gradiente\n",
        "    gradienteC = 2 * alfa_itC * nBColor - 2 * pp_Color\n",
        "\n",
        "    # Actualizar alfa\n",
        "    alfa_itC = alfa_itC - tasa_aprendizajeC * gradienteC\n",
        "\n",
        "    # Calcular el nuevo costo\n",
        "    coste_actC = np.linalg.norm(v_aColor - alfa_itC * v_bColor)**2\n",
        "\n",
        "    iteracion += 1\n",
        "\n",
        "    # Guardar los valores en las listas\n",
        "    historial_alfaC.append(alfa_itC)\n",
        "    historial_costeC.append(coste_actC)\n",
        "\n",
        "print(\"\\nDescenso de Gradiente finalizado.\")\n",
        "print(f\"Total de iteraciones: {iteracion}\")\n",
        "print(f\"Valor óptimo de alfa encontrado: {alfa_itC:.10f}\")\n",
        "\n"
      ]
    },
    {
      "cell_type": "code",
      "execution_count": null,
      "metadata": {
        "colab": {
          "background_save": true
        },
        "id": "69a7f221",
        "outputId": "052c3eb5-3153-4ecf-8abc-766a9e03e2dd"
      },
      "outputs": [
        {
          "ename": "NameError",
          "evalue": "name 'costeColor' is not defined",
          "output_type": "error",
          "traceback": [
            "\u001b[0;31m---------------------------------------------------------------------------\u001b[0m",
            "\u001b[0;31mNameError\u001b[0m                                 Traceback (most recent call last)",
            "\u001b[0;32m/tmp/ipython-input-4015446707.py\u001b[0m in \u001b[0;36m<cell line: 0>\u001b[0;34m()\u001b[0m\n\u001b[1;32m      1\u001b[0m \u001b[0;31m# Calcular la diferencia entre el costo final de RGB y el costo final de escala de grises\u001b[0m\u001b[0;34m\u001b[0m\u001b[0;34m\u001b[0m\u001b[0m\n\u001b[0;32m----> 2\u001b[0;31m \u001b[0mdiferencia_costo\u001b[0m \u001b[0;34m=\u001b[0m \u001b[0mcosteColor\u001b[0m \u001b[0;34m-\u001b[0m \u001b[0mcosto_final\u001b[0m\u001b[0;34m\u001b[0m\u001b[0;34m\u001b[0m\u001b[0m\n\u001b[0m\u001b[1;32m      3\u001b[0m \u001b[0mprint\u001b[0m\u001b[0;34m(\u001b[0m\u001b[0;34mf\"Diferencia entre el costo final RGB y el costo final escala de grises: {diferencia_costo}\"\u001b[0m\u001b[0;34m)\u001b[0m\u001b[0;34m\u001b[0m\u001b[0;34m\u001b[0m\u001b[0m\n",
            "\u001b[0;31mNameError\u001b[0m: name 'costeColor' is not defined"
          ]
        }
      ],
      "source": [
        "# Calcular la diferencia entre el costo final de RGB y el costo final de escala de grises\n",
        "diferencia_costo = costeColor - costo_final\n",
        "print(f\"Diferencia entre el costo final RGB y el costo final escala de grises: {diferencia_costo}\")"
      ]
    },
    {
      "cell_type": "code",
      "execution_count": null,
      "metadata": {
        "colab": {
          "background_save": true
        },
        "id": "bf1a9e29"
      },
      "outputs": [],
      "source": [
        "print(f\"Costo final para escala de grises: {costo_final}\")\n",
        "print(f\"Costo final para RGB: {costeColor}\")"
      ]
    },
    {
      "cell_type": "code",
      "execution_count": null,
      "metadata": {
        "colab": {
          "background_save": true
        },
        "id": "f881f982"
      },
      "outputs": [],
      "source": [
        "# Diferencia para escala de grises\n",
        "diferencia_alfa_gris = abs(alfa_mat - alfa)\n",
        "print(f\"Diferencia entre alfa analítico e iterativo (Escala de Grises): {diferencia_alfa_gris:.10f}\")\n",
        "\n",
        "# Diferencia para RGB (already calculated in a previous turn)\n",
        "diferencia_alfa_rgb = abs(alfa_color - alfa_itC)\n",
        "print(f\"Diferencia entre alfa analítico e iterativo (RGB): {diferencia_alfa_rgb:.10f}\")"
      ]
    },
    {
      "cell_type": "code",
      "execution_count": null,
      "metadata": {
        "colab": {
          "background_save": true
        },
        "id": "33a2c91f"
      },
      "outputs": [],
      "source": [
        "# --- Visualizar la trayectoria del Descenso de Gradiente para RGB ---\n",
        "plt.figure(figsize=(10, 6))\n",
        "\n",
        "# Graficar la función de coste (opcional, para ver la forma de la curva)\n",
        "# Esto requiere calcular muchos puntos de la función de coste\n",
        "alfa_valoresC = np.linspace(min(historial_alfaC) * 0.9, max(historial_alfaC) * 1.1, 500)\n",
        "coste_valoresC = [np.linalg.norm(v_aColor - a_val * v_bColor)**2 for a_val in alfa_valoresC]\n",
        "plt.plot(alfa_valoresC, coste_valoresC, label='Función de Coste (RGB)', color='blue')\n",
        "\n",
        "# Graficar la trayectoria del Descenso de Gradiente\n",
        "plt.plot(historial_alfaC, historial_costeC, marker='o', color='red', linestyle='--', label='Trayectoria Descenso de Gradiente (RGB)')\n",
        "\n",
        "plt.title(\"Convergencia del Descenso de Gradiente (RGB)\")\n",
        "plt.xlabel(\"Alfa (α)\")\n",
        "plt.ylabel(\"Función de Coste\")\n",
        "plt.grid(True)\n",
        "plt.legend()\n",
        "plt.show()"
      ]
    }
  ],
  "metadata": {
    "colab": {
      "provenance": [],
      "authorship_tag": "ABX9TyNvr5NWhDEKAZnSu6L06Czv",
      "include_colab_link": true
    },
    "kernelspec": {
      "display_name": "Python 3",
      "name": "python3"
    },
    "language_info": {
      "name": "python"
    }
  },
  "nbformat": 4,
  "nbformat_minor": 0
}